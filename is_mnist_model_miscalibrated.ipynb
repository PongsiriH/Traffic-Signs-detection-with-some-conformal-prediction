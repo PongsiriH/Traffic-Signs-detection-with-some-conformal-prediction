{
 "cells": [
  {
   "cell_type": "code",
   "execution_count": 1,
   "metadata": {},
   "outputs": [],
   "source": [
    "import torch\n",
    "import torch.nn as nn\n",
    "import torch.optim as optim\n",
    "from torchvision import datasets, transforms\n",
    "from torch.utils.data import DataLoader\n",
    "import matplotlib.pyplot as plt\n",
    "import numpy as np"
   ]
  },
  {
   "cell_type": "code",
   "execution_count": 17,
   "metadata": {},
   "outputs": [
    {
     "name": "stdout",
     "output_type": "stream",
     "text": [
      "Epoch 1 complete\n",
      "Epoch 2 complete\n",
      "Epoch 3 complete\n",
      "Epoch 4 complete\n",
      "Epoch 5 complete\n",
      "Epoch 6 complete\n",
      "Epoch 7 complete\n",
      "Epoch 8 complete\n",
      "Epoch 9 complete\n",
      "Epoch 10 complete\n",
      "Test set: Average loss: 0.0001, Accuracy: 9762/10000 (98%)\n"
     ]
    }
   ],
   "source": [
    "# Define a simple neural network\n",
    "class Net(nn.Module):\n",
    "    def __init__(self):\n",
    "        super(Net, self).__init__()\n",
    "        self.fc1 = nn.Linear(28*28, 512)\n",
    "        self.fc2 = nn.Linear(512, 256)\n",
    "        self.fc3 = nn.Linear(256, 128)\n",
    "        self.fc4 = nn.Linear(128, 64)\n",
    "        self.fc5 = nn.Linear(64, 10)\n",
    "\n",
    "    def forward(self, x):\n",
    "        x = x.view(-1, 28*28)\n",
    "        x = torch.relu(self.fc1(x))\n",
    "        x = torch.relu(self.fc2(x))\n",
    "        x = torch.relu(self.fc3(x))\n",
    "        x = torch.relu(self.fc4(x))\n",
    "        x = self.fc5(x)\n",
    "        return x\n",
    "\n",
    "# Load MNIST Data\n",
    "transform = transforms.Compose([transforms.ToTensor(), transforms.Normalize((0.5,), (0.5,))])\n",
    "train_dataset = datasets.MNIST(root='./data', train=True, download=True, transform=transform)\n",
    "test_dataset = datasets.MNIST(root='./data', train=False, download=True, transform=transform)\n",
    "\n",
    "train_loader = DataLoader(train_dataset, batch_size=64, shuffle=True)\n",
    "test_loader = DataLoader(test_dataset, batch_size=1000, shuffle=False)\n",
    "\n",
    "# Initialize network and optimizer\n",
    "model = Net()\n",
    "optimizer = optim.SGD(model.parameters(), lr=0.01, momentum=0.9)\n",
    "criterion = nn.CrossEntropyLoss()\n",
    "\n",
    "# Training the network\n",
    "for epoch in range(10):\n",
    "    for batch_idx, (data, target) in enumerate(train_loader):\n",
    "        optimizer.zero_grad()\n",
    "        output = model(data)\n",
    "        loss = criterion(output, target)\n",
    "        loss.backward()\n",
    "        optimizer.step()\n",
    "\n",
    "    print(f\"Epoch {epoch+1} complete\")\n",
    "\n",
    "# Test the network\n",
    "model.eval()\n",
    "test_loss = 0\n",
    "correct = 0\n",
    "with torch.no_grad():\n",
    "    for data, target in test_loader:\n",
    "        output = model(data)\n",
    "        test_loss += criterion(output, target).item()\n",
    "        pred = output.argmax(dim=1, keepdim=True)\n",
    "        correct += pred.eq(target.view_as(pred)).sum().item()\n",
    "\n",
    "test_loss /= len(test_loader.dataset)\n",
    "print(f\"Test set: Average loss: {test_loss:.4f}, Accuracy: {correct}/{len(test_loader.dataset)} ({100. * correct / len(test_loader.dataset):.0f}%)\")"
   ]
  },
  {
   "cell_type": "code",
   "execution_count": 25,
   "metadata": {},
   "outputs": [
    {
     "name": "stdout",
     "output_type": "stream",
     "text": [
      "ECE: 0.01010993029922247\n"
     ]
    }
   ],
   "source": [
    "def calculate_ece(probs, labels, n_bins=10):\n",
    "    bin_boundaries = torch.linspace(0, 1, n_bins + 1)\n",
    "    bin_lowers = bin_boundaries[:-1]\n",
    "    bin_uppers = bin_boundaries[1:]\n",
    "\n",
    "    confidences, predictions = torch.max(probs, 1)\n",
    "    accuracies = predictions.eq(labels)\n",
    "\n",
    "    ece = torch.zeros(1, device=probs.device)\n",
    "    for bin_lower, bin_upper in zip(bin_lowers, bin_uppers):\n",
    "        # Find the indices of probabilities that fall into each bin\n",
    "        in_bin = confidences.gt(bin_lower.item()) & confidences.le(bin_upper.item())\n",
    "        prop_in_bin = in_bin.float().mean()  # Proportion of data in this bin\n",
    "        if prop_in_bin.item() > 0:\n",
    "            # Compute the accuracy of the bin\n",
    "            accuracy_in_bin = accuracies[in_bin].float().mean()\n",
    "            # Compute the average confidence of the bin\n",
    "            avg_confidence_in_bin = confidences[in_bin].mean()\n",
    "            ece += torch.abs(avg_confidence_in_bin - accuracy_in_bin) * prop_in_bin\n",
    "\n",
    "    return ece.item()\n",
    "\n",
    "# Example usage:\n",
    "# Assuming 'model' is your trained model and 'data_loader' is your test data loader\n",
    "model.eval()\n",
    "all_probs = torch.tensor([])\n",
    "all_labels = torch.tensor([])\n",
    "with torch.no_grad():\n",
    "    for data, target in test_loader:\n",
    "        outputs = model(data)\n",
    "        probs = torch.softmax(outputs, dim=1)\n",
    "        all_probs = torch.cat((all_probs, probs), dim=0)\n",
    "        all_labels = torch.cat((all_labels, target), dim=0)\n",
    "\n",
    "ece = calculate_ece(all_probs, all_labels, 20)\n",
    "print(f\"ECE: {ece}\")"
   ]
  },
  {
   "cell_type": "code",
   "execution_count": 26,
   "metadata": {},
   "outputs": [
    {
     "name": "stdout",
     "output_type": "stream",
     "text": [
      "SCE: 0.040431536734104156\n"
     ]
    }
   ],
   "source": [
    "def calculate_sce(outputs, labels, n_bins=10):\n",
    "    n_classes = outputs.size(1)\n",
    "    bin_boundaries = torch.linspace(0, 1, n_bins + 1)\n",
    "    bin_lowers = bin_boundaries[:-1]\n",
    "    bin_uppers = bin_boundaries[1:]\n",
    "\n",
    "    sce = torch.zeros(1, device=outputs.device)\n",
    "    N = outputs.size(0)\n",
    "\n",
    "    for k in range(n_classes):\n",
    "        class_probs = outputs[:, k]\n",
    "        class_labels = labels.eq(k)\n",
    "        for bin_lower, bin_upper in zip(bin_lowers, bin_uppers):\n",
    "            in_bin = class_probs.gt(bin_lower.item()) & class_probs.le(bin_upper.item())\n",
    "            nbk = in_bin.sum().item()\n",
    "            if nbk > 0:\n",
    "                accuracy_in_bin = class_labels[in_bin].float().mean()\n",
    "                avg_confidence_in_bin = class_probs[in_bin].mean()\n",
    "                sce += torch.abs(avg_confidence_in_bin - accuracy_in_bin) * (nbk / N)\n",
    "\n",
    "    sce /= n_classes\n",
    "    return sce.item()\n",
    "\n",
    "# Example usage:\n",
    "model.eval()\n",
    "all_outputs = torch.tensor([])\n",
    "all_labels = torch.tensor([])\n",
    "with torch.no_grad():\n",
    "    for data, target in test_loader:\n",
    "        outputs = model(data)\n",
    "        all_outputs = torch.cat((all_outputs, outputs), dim=0)\n",
    "        all_labels = torch.cat((all_labels, target), dim=0)\n",
    "\n",
    "sce = calculate_sce(all_outputs, all_labels, 20)\n",
    "print(f\"SCE: {sce}\")"
   ]
  },
  {
   "cell_type": "code",
   "execution_count": 23,
   "metadata": {},
   "outputs": [
    {
     "data": {
      "image/png": "[encoded data removed]",
      "text/plain": [
       "<Figure size 640x480 with 1 Axes>"
      ]
     },
     "metadata": {},
     "output_type": "display_data"
    }
   ],
   "source": [
    "import matplotlib.pyplot as plt\n",
    "import numpy as np\n",
    "import torch\n",
    "\n",
    "def plot_reliability_diagram(probs, labels, n_bins=10):\n",
    "    bin_boundaries = np.linspace(0, 1, n_bins + 1)\n",
    "    bin_lowers = bin_boundaries[:-1]\n",
    "    bin_centers = (bin_boundaries[1:] + bin_boundaries[:-1]) / 2\n",
    "    confidences, predictions = torch.max(probs, 1)\n",
    "    accuracies = predictions.eq(labels)\n",
    "\n",
    "    accuracies_in_bins = np.zeros(n_bins)\n",
    "    confidences_in_bins = np.zeros(n_bins)\n",
    "    for i in range(n_bins):\n",
    "        in_bin = confidences.gt(bin_lowers[i]) & confidences.le(bin_boundaries[i+1])\n",
    "        accuracies_in_bins[i] = accuracies[in_bin].float().mean().item()\n",
    "        confidences_in_bins[i] = confidences[in_bin].mean().item()\n",
    "\n",
    "    plt.plot(bin_centers, accuracies_in_bins, label='Reliability')\n",
    "    plt.plot([0, 1], [0, 1], '--', label='Perfectly calibrated')\n",
    "    plt.ylabel('Accuracy')\n",
    "    plt.xlabel('Confidence')\n",
    "    plt.title('Reliability Diagram')\n",
    "    plt.legend()\n",
    "    plt.show()\n",
    "\n",
    "# Example usage:\n",
    "model.eval()\n",
    "all_probs = torch.tensor([])\n",
    "all_labels = torch.tensor([])\n",
    "with torch.no_grad():\n",
    "    for data, target in test_loader:\n",
    "        outputs = model(data)\n",
    "        probs = torch.softmax(outputs, dim=1)\n",
    "        all_probs = torch.cat((all_probs, probs), dim=0)\n",
    "        all_labels = torch.cat((all_labels, target), dim=0)\n",
    "\n",
    "plot_reliability_diagram(all_probs, all_labels, 20)"
   ]
  }
 ],
 "metadata": {
  "kernelspec": {
   "display_name": "tflab",
   "language": "python",
   "name": "python3"
  },
  "language_info": {
   "codemirror_mode": {
    "name": "ipython",
    "version": 3
   },
   "file_extension": ".py",
   "mimetype": "text/x-python",
   "name": "python",
   "nbconvert_exporter": "python",
   "pygments_lexer": "ipython3",
   "version": "3.11.5"
  }
 },
 "nbformat": 4,
 "nbformat_minor": 2
}
