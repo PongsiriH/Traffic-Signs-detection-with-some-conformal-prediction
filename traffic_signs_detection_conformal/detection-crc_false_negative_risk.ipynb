{
 "cells": [
  {
   "cell_type": "markdown",
   "metadata": {},
   "source": [
    "run in colab: https://colab.research.google.com/drive/19zJrENW3aFTL__NF5gGVxLH4SHoszHhU#scrollTo=YoK2xryOj1uY\n",
    "\n",
    "only tested on T4 GPU."
   ]
  }
 ],
 "metadata": {
  "language_info": {
   "name": "python"
  }
 },
 "nbformat": 4,
 "nbformat_minor": 2
}
