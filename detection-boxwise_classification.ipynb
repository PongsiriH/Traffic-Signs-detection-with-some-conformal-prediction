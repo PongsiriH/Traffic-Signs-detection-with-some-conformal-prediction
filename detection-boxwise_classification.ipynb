{
 "cells": [
  {
   "cell_type": "code",
   "execution_count": null,
   "metadata": {},
   "outputs": [],
   "source": [
    "import sys, os\n",
    "os.environ['CUDA_LAUNCH_BLOCKING'] = \"1\"\n",
    "sys.path.append('D:/Year 3/A deep learning approach for Thai traffic sign recognition/train_ultralytics/yolov5')\n",
    "sys.path.append('D:/Year 3/A deep learning approach for Thai traffic sign recognition/train_ultralytics')\n",
    "\n",
    "import torch\n",
    "import torchvision\n",
    "import numpy as np\n",
    "import yaml\n",
    "from yolov5.models.common import DetectMultiBackend\n",
    "from yolov5.utils.general import check_img_size, xywh2xyxy\n",
    "from yolov5.utils.dataloaders import LoadImages, LoadScreenshots, LoadStreams, LoadImagesAndLabels\n",
    "\n",
    "import holoviews as hv\n",
    "hv.extension('bokeh')\n",
    "\n",
    "import pathlib\n",
    "temp = pathlib.PosixPath\n",
    "pathlib.PosixPath = pathlib.WindowsPath\n",
    "\n",
    "from general import (process_label, preprocess_image, one_hot_encode, \n",
    "                     apply_conf_thresh, nms_resize_organize_etc, matching_iou_hungarian)\n",
    "from general import iou as box_iou\n",
    "from general import YOLO2SKLEARN # sklearn-like interface for yolo. just my preference.\n",
    "from general import adjust_bbox_for_flipud, label_bbox # for plotting.\n",
    "\n",
    "from core import gather_nonconformity_scores, form_prediction_set, predictions_and_labels, summary_table_and_results"
   ]
  }
 ],
 "metadata": {
  "language_info": {
   "name": "python"
  }
 },
 "nbformat": 4,
 "nbformat_minor": 2
}
